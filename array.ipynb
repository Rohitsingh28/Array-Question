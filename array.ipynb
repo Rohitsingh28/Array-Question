{
 "cells": [
  {
   "cell_type": "code",
   "execution_count": 1,
   "id": "c8b0a3f9",
   "metadata": {},
   "outputs": [
    {
     "name": "stdout",
     "output_type": "stream",
     "text": [
      "lenght:   0, size of bytes:  56\n",
      "lenght:   1, size of bytes:  88\n",
      "lenght:   2, size of bytes:  88\n",
      "lenght:   3, size of bytes:  88\n",
      "lenght:   4, size of bytes:  88\n",
      "lenght:   5, size of bytes: 120\n",
      "lenght:   6, size of bytes: 120\n",
      "lenght:   7, size of bytes: 120\n",
      "lenght:   8, size of bytes: 120\n",
      "lenght:   9, size of bytes: 184\n"
     ]
    }
   ],
   "source": [
    "import sys\n",
    "\n",
    "n= 10\n",
    "data = []\n",
    "for i in range(n):\n",
    "    # no. of elements\n",
    "    a = len(data)\n",
    "#     print(n)\n",
    "    # actual size in bytes\n",
    "    b = sys.getsizeof(data)\n",
    "#     print(a,b)\n",
    "    \n",
    "    print(\"lenght:{0:4d}, size of bytes:{1:4d}\".format(a,b))\n",
    "    data.append(n)"
   ]
  },
  {
   "cell_type": "code",
   "execution_count": 2,
   "id": "550492ac",
   "metadata": {},
   "outputs": [],
   "source": [
    "import ctypes\n",
    "\n",
    "class DynamicArray(object):\n",
    "    \n",
    "    def __init__(self):\n",
    "        self.n = 0    #no. ofe elements present in a list/array\n",
    "        self.capacity = 1    # capacity of array\n",
    "        self.A = self.make_new_array(self.capacity)\n",
    "        \n",
    "    def __len__(self):\n",
    "        return self.n\n",
    "    \n",
    "    def __getitem__(self,k):\n",
    "        \n",
    "        if not 0<= k <self.n :\n",
    "            return IndexError(\"array index out of bound!\")\n",
    "        return self.A[k]\n",
    "    \n",
    "    def append_array(self,ele):\n",
    "        if self.n == self.capacity:\n",
    "            self._resize(2*self.capacity)\n",
    "        \n",
    "        self.A[self.n] = ele\n",
    "        self.n += 1\n",
    "        \n",
    "    def _resize(self,new_cap):\n",
    "        \n",
    "        B = self.make_new_array(new_cap)\n",
    "        \n",
    "        for k in range(self.n):\n",
    "            B[k] = self.A[k]\n",
    "        \n",
    "        self.A = B\n",
    "        self.capacity = new_cap\n",
    "        \n",
    "    def make_new_array(self, new_cap):\n",
    "        return (new_cap * ctypes.py_object)()\n",
    "    "
   ]
  },
  {
   "cell_type": "code",
   "execution_count": 3,
   "id": "64e7d574",
   "metadata": {},
   "outputs": [],
   "source": [
    "arr = DynamicArray()\n"
   ]
  },
  {
   "cell_type": "code",
   "execution_count": 4,
   "id": "198f111f",
   "metadata": {},
   "outputs": [],
   "source": [
    "arr.append_array(1)"
   ]
  },
  {
   "cell_type": "code",
   "execution_count": 5,
   "id": "5a2e0292",
   "metadata": {},
   "outputs": [
    {
     "data": {
      "text/plain": [
       "1"
      ]
     },
     "execution_count": 5,
     "metadata": {},
     "output_type": "execute_result"
    }
   ],
   "source": [
    "len(arr)"
   ]
  },
  {
   "cell_type": "markdown",
   "id": "16cbd14c",
   "metadata": {},
   "source": [
    "# Anagram are the words, by using there alphabets we can make new words like: god and dog"
   ]
  },
  {
   "cell_type": "code",
   "execution_count": 13,
   "id": "33777e55",
   "metadata": {},
   "outputs": [],
   "source": [
    "def anagramn(s1, s2):\n",
    "    t = 0\n",
    "    s1 = s1.upper()\n",
    "    s2 = s2.upper()\n",
    "    str1 = []\n",
    "    for x in s1:\n",
    "        if x ==\" \":\n",
    "            continue\n",
    "        str1.append(x)\n",
    "        \n",
    "    str2 = []\n",
    "    for x in s2:\n",
    "        if x ==\" \":\n",
    "            continue\n",
    "        str2.append(x)\n",
    "    print(str1, str2)\n",
    "    str1.sort()\n",
    "    str2.sort()\n",
    "    if len(str1) == len(str2):\n",
    "        if str1 == str2:\n",
    "            print(\"Give strings are Anagram\")\n",
    "       \n",
    "    else:\n",
    "        print(\"not anagramn\")\n",
    "        \n",
    "            \n",
    "\n"
   ]
  },
  {
   "cell_type": "code",
   "execution_count": 14,
   "id": "ee946f6a",
   "metadata": {},
   "outputs": [
    {
     "name": "stdout",
     "output_type": "stream",
     "text": [
      "['C', 'L', 'I', 'N', 'T', 'E', 'A', 'S', 'T', 'W', 'O', 'O', 'D'] ['O', 'L', 'D', 'W', 'E', 'S', 'T', 'A', 'C', 'T', 'I', 'O', 'N']\n",
      "Give strings are Anagram\n"
     ]
    }
   ],
   "source": [
    "anagramn(\"clint eastwood\", \"old west action\")"
   ]
  },
  {
   "cell_type": "markdown",
   "id": "54961544",
   "metadata": {},
   "source": [
    "# sum of two numbers in a list can become equal to the desired number."
   ]
  },
  {
   "cell_type": "code",
   "execution_count": 15,
   "id": "de7b7839",
   "metadata": {},
   "outputs": [],
   "source": [
    "def testpair(lst,num):\n",
    "    t = 0\n",
    "    s = set()\n",
    "    mid = len(lst)//2\n",
    "    for x in range(len(lst)):\n",
    "        for y in lst[:x] + lst[x+1:]:\n",
    "            if lst[x] + y == num:\n",
    "                if (lst[x]-y) < 0:\n",
    "                    s.add((-1*(lst[x]-y)))\n",
    "                else:\n",
    "                    s.add((lst[x]-y))\n",
    "#                 print(lst[x],y)\n",
    "#                 t += 1\n",
    "#     print(l1,l2)\n",
    "    print(len(s))\n",
    "        \n",
    "    "
   ]
  },
  {
   "cell_type": "code",
   "execution_count": 16,
   "id": "1467c769",
   "metadata": {},
   "outputs": [
    {
     "name": "stdout",
     "output_type": "stream",
     "text": [
      "2\n"
     ]
    }
   ],
   "source": [
    "testpair([1,3,2,2],4)"
   ]
  },
  {
   "cell_type": "markdown",
   "id": "79a94ca0",
   "metadata": {},
   "source": [
    "# Find the missisng element "
   ]
  },
  {
   "cell_type": "code",
   "execution_count": 21,
   "id": "ec3a873b",
   "metadata": {},
   "outputs": [],
   "source": [
    "def misssinElement(arr1, arr2):\n",
    "    arr1.sort()\n",
    "    arr2.sort()\n",
    "    print(arr1,arr2 )\n",
    "    for i in range(len(arr1)):\n",
    "        if arr1[i] != arr2[i]:\n",
    "            return arr1[i]"
   ]
  },
  {
   "cell_type": "code",
   "execution_count": 22,
   "id": "0d6fa462",
   "metadata": {},
   "outputs": [
    {
     "name": "stdout",
     "output_type": "stream",
     "text": [
      "[1, 2, 3, 4, 5, 6, 7, 8] [1, 2, 3, 4, 5, 6, 8]\n"
     ]
    },
    {
     "data": {
      "text/plain": [
       "7"
      ]
     },
     "execution_count": 22,
     "metadata": {},
     "output_type": "execute_result"
    }
   ],
   "source": [
    "a = [1,2,3,4,5,6,7,8]\n",
    "b = [8,6,5,4,3,2,1]\n",
    "misssinElement(a,b)"
   ]
  },
  {
   "cell_type": "markdown",
   "id": "67dc3d6b",
   "metadata": {},
   "source": [
    "# Largest Continuos Sum"
   ]
  },
  {
   "cell_type": "code",
   "execution_count": 36,
   "id": "31c28d36",
   "metadata": {},
   "outputs": [],
   "source": [
    "def continuosSum(arr1):\n",
    "    arr1.sort(reverse = True)\n",
    "    print(arr1)\n",
    "    t = 0\n",
    "    for i in range(len(arr1)):\n",
    "        if arr1[i]>0:\n",
    "            t = t+ arr1[i]\n",
    "        else:\n",
    "            t = t + arr1[i]\n",
    "            break\n",
    "    return(t)\n",
    "    \n",
    "            "
   ]
  },
  {
   "cell_type": "code",
   "execution_count": 38,
   "id": "ea01de08",
   "metadata": {},
   "outputs": [
    {
     "name": "stdout",
     "output_type": "stream",
     "text": [
      "[10, 10, 4, 3, 2, 1, -1, -1, -10]\n"
     ]
    },
    {
     "data": {
      "text/plain": [
       "29"
      ]
     },
     "execution_count": 38,
     "metadata": {},
     "output_type": "execute_result"
    }
   ],
   "source": [
    "continuosSum([1,2,-1,3,4,10,10,-10,-1])"
   ]
  },
  {
   "cell_type": "markdown",
   "id": "7dff55c4",
   "metadata": {},
   "source": [
    "# Sentense Reversal"
   ]
  },
  {
   "cell_type": "code",
   "execution_count": 3,
   "id": "50336cf7",
   "metadata": {},
   "outputs": [],
   "source": [
    "def sentenseReversal(str1):\n",
    "    if len(str1) == 0:\n",
    "        return False\n",
    "    k = str1.strip()\n",
    "    final_str = \"\"\n",
    "    new_str = k.split(\" \")\n",
    "    print(new_str)\n",
    "    dm = []\n",
    "    for i in range(len(new_str)-1,-1,-1):\n",
    "#         print(new_str[i])\n",
    "        dm.append(new_str[i])\n",
    "    print(dm)\n",
    "    for ele in range(len(dm)):\n",
    "        final_str = final_str+dm[ele]\n",
    "        final_str = final_str+\" \"\n",
    "#         if ele != len(dm)-1:\n",
    "#             final_str = final_str+dm[ele]\n",
    "#             final_str = final_str+\" \"\n",
    "#         else:\n",
    "#             final_str = final_str+dm[ele]\n",
    "            \n",
    "    print(final_str.strip())\n",
    "    \n",
    "        \n",
    "    \n",
    "    "
   ]
  },
  {
   "cell_type": "code",
   "execution_count": 4,
   "id": "547aaa7e",
   "metadata": {},
   "outputs": [
    {
     "name": "stdout",
     "output_type": "stream",
     "text": [
      "['my', 'name', 'is', 'rohit']\n",
      "['rohit', 'is', 'name', 'my']\n",
      "rohit is name my\n"
     ]
    }
   ],
   "source": [
    "sentenseReversal(\"   my name is rohit   \")\n",
    "    "
   ]
  },
  {
   "cell_type": "markdown",
   "id": "3be70743",
   "metadata": {},
   "source": [
    "# String Compression"
   ]
  },
  {
   "cell_type": "code",
   "execution_count": 13,
   "id": "3203a4ca",
   "metadata": {},
   "outputs": [],
   "source": [
    "def stringCompression(strr):\n",
    "    compStr = \"\"\n",
    "    distinct_char = set(strr)\n",
    "    print(distinct_char)\n",
    "    for x in distinct_char:\n",
    "        count = 0\n",
    "        for y in strr:\n",
    "            if x == y:\n",
    "                count += 1\n",
    "        compStr = compStr+x+str(count)\n",
    "    return compStr\n",
    "                \n",
    "    \n",
    "    "
   ]
  },
  {
   "cell_type": "code",
   "execution_count": 14,
   "id": "5a0a03ac",
   "metadata": {},
   "outputs": [
    {
     "name": "stdout",
     "output_type": "stream",
     "text": [
      "{'C', 'b', 'B', 'A', 'c'}\n"
     ]
    },
    {
     "data": {
      "text/plain": [
       "'C4b4B5A6c4'"
      ]
     },
     "execution_count": 14,
     "metadata": {},
     "output_type": "execute_result"
    }
   ],
   "source": [
    "stringCompression(\"AAAAAAbbbbBBBBBCCCCcccc\")"
   ]
  },
  {
   "cell_type": "markdown",
   "id": "b70561e2",
   "metadata": {},
   "source": [
    "# Unique Character in String"
   ]
  },
  {
   "cell_type": "code",
   "execution_count": 2,
   "id": "1c258c10",
   "metadata": {},
   "outputs": [],
   "source": [
    "def uniqueCharacter(str1):\n",
    "    distinct_char1 = set(str1)\n",
    "    distinct_char2 = tuple(str1)\n",
    "    if len(distinct_char1) == len(distinct_char2):\n",
    "        return True\n",
    "    else:\n",
    "        return False\n",
    "\n",
    "\n"
   ]
  },
  {
   "cell_type": "code",
   "execution_count": 3,
   "id": "2c8bef77",
   "metadata": {},
   "outputs": [
    {
     "data": {
      "text/plain": [
       "True"
      ]
     },
     "execution_count": 3,
     "metadata": {},
     "output_type": "execute_result"
    }
   ],
   "source": [
    "uniqueCharacter(\"AaBbCc\")"
   ]
  },
  {
   "cell_type": "markdown",
   "id": "8afefca7",
   "metadata": {},
   "source": [
    "# second charcter of every word capitalize."
   ]
  },
  {
   "cell_type": "code",
   "execution_count": 1,
   "id": "49c958a8",
   "metadata": {},
   "outputs": [
    {
     "name": "stdout",
     "output_type": "stream",
     "text": [
      "mY nAme iS rOhit\n"
     ]
    }
   ],
   "source": [
    "\n",
    "a = \"my name is rohit\"\n",
    "a = a.split(\" \")\n",
    "n = len(a)\n",
    "lis = []\n",
    "\n",
    "for x in a:\n",
    "    x = x.replace(x[1],x[1].upper(),1)\n",
    "    lis.append(x)\n",
    "print(\" \".join(lis))"
   ]
  },
  {
   "cell_type": "markdown",
   "id": "88bb7f78",
   "metadata": {},
   "source": [
    "# Make a pyramid\n",
    "        1\n",
    "       222\n",
    "      33333\n",
    "     4444444\n",
    "    555555555\n"
   ]
  },
  {
   "cell_type": "code",
   "execution_count": 3,
   "id": "77245a0c",
   "metadata": {},
   "outputs": [
    {
     "name": "stdout",
     "output_type": "stream",
     "text": [
      "\n",
      "     \n",
      "    1\n",
      "   222\n",
      "  33333\n",
      " 4444444\n",
      "555555555"
     ]
    }
   ],
   "source": [
    "def pattern(n):\n",
    "    for i in range(n+1):\n",
    "        print(\"\")\n",
    "        for k in range(n-i):\n",
    "                print(end = \" \")\n",
    "        for j in range(i+(i-1)):\n",
    "            print(i,end =\"\")\n",
    "            \n",
    "pattern(5)"
   ]
  },
  {
   "cell_type": "markdown",
   "id": "3e08bf54",
   "metadata": {},
   "source": [
    "# Decorator implementation"
   ]
  },
  {
   "cell_type": "code",
   "execution_count": 4,
   "id": "a81437d7",
   "metadata": {},
   "outputs": [
    {
     "name": "stdout",
     "output_type": "stream",
     "text": [
      "denominator can not be zero\n"
     ]
    }
   ],
   "source": [
    "def check(func):\n",
    "    def inside(a,b):\n",
    "        if b == 0:\n",
    "            print(\"denominator can not be zero\")\n",
    "            return\n",
    "        func(a,b)\n",
    "    return inside\n",
    "\n",
    "@check\n",
    "def divi(a,b):\n",
    "    print(a/b)\n",
    "    return\n",
    "    \n",
    "x = divi(10,0)"
   ]
  }
 ],
 "metadata": {
  "kernelspec": {
   "display_name": "Python 3 (ipykernel)",
   "language": "python",
   "name": "python3"
  },
  "language_info": {
   "codemirror_mode": {
    "name": "ipython",
    "version": 3
   },
   "file_extension": ".py",
   "mimetype": "text/x-python",
   "name": "python",
   "nbconvert_exporter": "python",
   "pygments_lexer": "ipython3",
   "version": "3.10.1"
  }
 },
 "nbformat": 4,
 "nbformat_minor": 5
}
